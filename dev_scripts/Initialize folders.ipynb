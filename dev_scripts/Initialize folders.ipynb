{
 "cells": [
  {
   "cell_type": "markdown",
   "metadata": {},
   "source": [
    "This notebook is used to initialize the directory structure for the materials directory using an example YAML (or json) file of a Materials Project document."
   ]
  },
  {
   "cell_type": "code",
   "execution_count": 4,
   "metadata": {
    "collapsed": true
   },
   "outputs": [],
   "source": [
    "import yaml\n",
    "import os\n",
    "import shutil\n",
    "import json"
   ]
  },
  {
   "cell_type": "code",
   "execution_count": 5,
   "metadata": {
    "collapsed": false
   },
   "outputs": [],
   "source": [
    "example = \"\"\"## Example output in JSON\n",
    "\n",
    "```json\n",
    "%s\n",
    "```\n",
    "\n",
    "\"\"\"\n",
    "\n",
    "def make_dir(d, rootdir):\n",
    "    for k, v in d.items():\n",
    "        if k == \"_id\":\n",
    "            # Ignore object id key, which is useless.\n",
    "            continue\n",
    "        subpath = os.path.join(rootdir, k)\n",
    "        try:\n",
    "            os.makedirs(subpath)\n",
    "        except:\n",
    "            pass\n",
    "        fname = os.path.join(subpath, \"README.md\")\n",
    "        if not os.path.exists(fname):\n",
    "            with open(fname, \"w\") as f:\n",
    "                if v is not None:\n",
    "                    data = example % json.dumps(v)\n",
    "                else:\n",
    "                    data = \"\"\n",
    "                f.write(data)\n",
    "        else:\n",
    "            with open(fname) as f:\n",
    "                data = f.read().strip()\n",
    "            if \"## Example output in JSON\" not in data:\n",
    "                if v is not None:\n",
    "                    data += \"\\n\\n\"\n",
    "                    data += example % json.dumps(v)\n",
    "                    with open(fname, \"w\") as f:\n",
    "                        print \"Adding example to %s\" % k\n",
    "                        f.write(data)\n",
    "\n",
    "        if isinstance(v, dict) and \"formula\" not in k:\n",
    "            # Ignore formulas which has material specific keys.\n",
    "            make_dir(v, rootdir=subpath)"
   ]
  },
  {
   "cell_type": "code",
   "execution_count": 6,
   "metadata": {
    "collapsed": false
   },
   "outputs": [],
   "source": [
    "for fname in [\"mp-188.yaml\", \"mp-1234.yaml\"]:\n",
    "    with open(fname) as f:\n",
    "        doc = yaml.load(f)\n",
    "    make_dir(doc, rootdir=\"../materials\")"
   ]
  },
  {
   "cell_type": "code",
   "execution_count": null,
   "metadata": {
    "collapsed": true
   },
   "outputs": [],
   "source": []
  }
 ],
 "metadata": {
  "kernelspec": {
   "display_name": "Python 2",
   "language": "python",
   "name": "python2"
  },
  "language_info": {
   "codemirror_mode": {
    "name": "ipython",
    "version": 2
   },
   "file_extension": ".py",
   "mimetype": "text/x-python",
   "name": "python",
   "nbconvert_exporter": "python",
   "pygments_lexer": "ipython2",
   "version": "2.7.9"
  }
 },
 "nbformat": 4,
 "nbformat_minor": 0
}

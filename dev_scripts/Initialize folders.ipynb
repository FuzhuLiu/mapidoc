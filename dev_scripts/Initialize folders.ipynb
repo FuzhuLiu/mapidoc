{
 "cells": [
  {
   "cell_type": "markdown",
   "metadata": {},
   "source": [
    "This notebook is used to initialize the directory structure for the materials directory using an example YAML (or json) file of a Materials Project document."
   ]
  },
  {
   "cell_type": "code",
   "execution_count": 10,
   "metadata": {
    "collapsed": true
   },
   "outputs": [],
   "source": [
    "import yaml\n",
    "import os\n",
    "import shutil\n",
    "import json\n",
    "\n",
    "with open(\"mp-188.yaml\") as f:\n",
    "    doc = yaml.load(f)"
   ]
  },
  {
   "cell_type": "code",
   "execution_count": 11,
   "metadata": {
    "collapsed": false
   },
   "outputs": [],
   "source": [
    "example = \"\"\"## Example output\n",
    "\n",
    "```json\n",
    "%s\n",
    "```\n",
    "\n",
    "\"\"\"\n",
    "\n",
    "def make_dir(d, rootdir):\n",
    "    for k, v in d.items():\n",
    "        if k == \"_id\":\n",
    "            # Ignore object id key, which is useless.\n",
    "            continue\n",
    "        subpath = os.path.join(rootdir, k)\n",
    "        try:\n",
    "            os.makedirs(subpath)\n",
    "        except:\n",
    "            pass\n",
    "        fname = os.path.join(subpath, \"README.md\")\n",
    "        print fname\n",
    "        if not os.path.exists(fname):\n",
    "            with open(fname, \"w\") as f:\n",
    "                if v is not None:\n",
    "                    data = example % json.dumps(v)\n",
    "                else:\n",
    "                    data = \"\"\n",
    "                f.write(data)\n",
    "        else:\n",
    "            with open(fname) as f:\n",
    "                data = f.read().strip()\n",
    "            if v is not None:\n",
    "                data += \"\\n\\n\"\n",
    "                data += example % json.dumps(v)\n",
    "            with open(fname, \"w\") as f:\n",
    "                print \"Modifying %s\" % k\n",
    "                f.write(data)\n",
    "        \n",
    "        if isinstance(v, dict) and \"formula\" not in k:\n",
    "            # Ignore formulas which has material specific keys.\n",
    "            make_dir(v, rootdir=subpath)"
   ]
  },
  {
   "cell_type": "code",
   "execution_count": 12,
   "metadata": {
    "collapsed": false
   },
   "outputs": [
    {
     "name": "stdout",
     "output_type": "stream",
     "text": [
      "../materials/icsd_ids/README.md\n"
     ]
    },
    {
     "ename": "TypeError",
     "evalue": "dump() takes at least 2 arguments (1 given)",
     "output_type": "error",
     "traceback": [
      "\u001b[0;31m---------------------------------------------------------------------------\u001b[0m",
      "\u001b[0;31mTypeError\u001b[0m                                 Traceback (most recent call last)",
      "\u001b[0;32m<ipython-input-12-a29ff6db4fc3>\u001b[0m in \u001b[0;36m<module>\u001b[0;34m()\u001b[0m\n\u001b[0;32m----> 1\u001b[0;31m \u001b[0mmake_dir\u001b[0m\u001b[0;34m(\u001b[0m\u001b[0mdoc\u001b[0m\u001b[0;34m,\u001b[0m \u001b[0mrootdir\u001b[0m\u001b[0;34m=\u001b[0m\u001b[0;34m\"../materials\"\u001b[0m\u001b[0;34m)\u001b[0m\u001b[0;34m\u001b[0m\u001b[0m\n\u001b[0m",
      "\u001b[0;32m<ipython-input-11-46ca3cb11f3d>\u001b[0m in \u001b[0;36mmake_dir\u001b[0;34m(d, rootdir)\u001b[0m\n\u001b[1;32m     31\u001b[0m             \u001b[0;32mif\u001b[0m \u001b[0mv\u001b[0m \u001b[0;32mis\u001b[0m \u001b[0;32mnot\u001b[0m \u001b[0mNone\u001b[0m\u001b[0;34m:\u001b[0m\u001b[0;34m\u001b[0m\u001b[0m\n\u001b[1;32m     32\u001b[0m                 \u001b[0mdata\u001b[0m \u001b[0;34m+=\u001b[0m \u001b[0;34m\"\\n\\n\"\u001b[0m\u001b[0;34m\u001b[0m\u001b[0m\n\u001b[0;32m---> 33\u001b[0;31m                 \u001b[0mdata\u001b[0m \u001b[0;34m+=\u001b[0m \u001b[0mexample\u001b[0m \u001b[0;34m%\u001b[0m \u001b[0mjson\u001b[0m\u001b[0;34m.\u001b[0m\u001b[0mdump\u001b[0m\u001b[0;34m(\u001b[0m\u001b[0mv\u001b[0m\u001b[0;34m)\u001b[0m\u001b[0;34m\u001b[0m\u001b[0m\n\u001b[0m\u001b[1;32m     34\u001b[0m             \u001b[0;32mwith\u001b[0m \u001b[0mopen\u001b[0m\u001b[0;34m(\u001b[0m\u001b[0mfname\u001b[0m\u001b[0;34m,\u001b[0m \u001b[0;34m\"w\"\u001b[0m\u001b[0;34m)\u001b[0m \u001b[0;32mas\u001b[0m \u001b[0mf\u001b[0m\u001b[0;34m:\u001b[0m\u001b[0;34m\u001b[0m\u001b[0m\n\u001b[1;32m     35\u001b[0m                 \u001b[0;32mprint\u001b[0m \u001b[0;34m\"Modifying %s\"\u001b[0m \u001b[0;34m%\u001b[0m \u001b[0mk\u001b[0m\u001b[0;34m\u001b[0m\u001b[0m\n",
      "\u001b[0;31mTypeError\u001b[0m: dump() takes at least 2 arguments (1 given)"
     ]
    }
   ],
   "source": [
    "make_dir(doc, rootdir=\"../materials\")"
   ]
  },
  {
   "cell_type": "code",
   "execution_count": null,
   "metadata": {
    "collapsed": true
   },
   "outputs": [],
   "source": []
  }
 ],
 "metadata": {
  "kernelspec": {
   "display_name": "Python 2",
   "language": "python",
   "name": "python2"
  },
  "language_info": {
   "codemirror_mode": {
    "name": "ipython",
    "version": 2
   },
   "file_extension": ".py",
   "mimetype": "text/x-python",
   "name": "python",
   "nbconvert_exporter": "python",
   "pygments_lexer": "ipython2",
   "version": "2.7.9"
  }
 },
 "nbformat": 4,
 "nbformat_minor": 0
}

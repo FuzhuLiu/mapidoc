{
 "cells": [
  {
   "cell_type": "code",
   "execution_count": 11,
   "metadata": {
    "collapsed": true
   },
   "outputs": [],
   "source": [
    "import yaml\n",
    "import os\n",
    "\n",
    "with open(\"mp-1234.yaml\") as f:\n",
    "    doc = yaml.load(f)"
   ]
  },
  {
   "cell_type": "code",
   "execution_count": 21,
   "metadata": {
    "collapsed": true
   },
   "outputs": [],
   "source": [
    "def make_dir(d, prefix=\"docs\"):\n",
    "    for k, v in d.items():\n",
    "        subpath = os.path.join(prefix, k)\n",
    "        try:\n",
    "            os.makedirs(subpath)\n",
    "        except:\n",
    "            pass\n",
    "        f = os.path.join(subpath, \"__doc__\")\n",
    "        if not os.path.exists(f):\n",
    "            with open(f, \"w\") as f:\n",
    "                f.write(\"\")\n",
    "        if isinstance(v, dict):\n",
    "            make_dir(v, prefix=subpath)\n",
    "#         elif isinstance(v, list):\n",
    "#             for i in v:\n",
    "#                 if isinstance(i, dict):\n",
    "#                     make_dir(i, prefix=subpath)"
   ]
  },
  {
   "cell_type": "code",
   "execution_count": 22,
   "metadata": {
    "collapsed": false
   },
   "outputs": [],
   "source": [
    "make_dir(doc)"
   ]
  },
  {
   "cell_type": "code",
   "execution_count": null,
   "metadata": {
    "collapsed": true
   },
   "outputs": [],
   "source": []
  }
 ],
 "metadata": {
  "kernelspec": {
   "display_name": "Python 2",
   "language": "python",
   "name": "python2"
  },
  "language_info": {
   "codemirror_mode": {
    "name": "ipython",
    "version": 2
   },
   "file_extension": ".py",
   "mimetype": "text/x-python",
   "name": "python",
   "nbconvert_exporter": "python",
   "pygments_lexer": "ipython2",
   "version": "2.7.8"
  }
 },
 "nbformat": 4,
 "nbformat_minor": 0
}

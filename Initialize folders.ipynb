{
 "cells": [
  {
   "cell_type": "code",
   "execution_count": 1,
   "metadata": {
    "collapsed": true
   },
   "outputs": [],
   "source": [
    "import yaml\n",
    "import os\n",
    "import shutil\n",
    "\n",
    "with open(\"mp-1234.yaml\") as f:\n",
    "    doc = yaml.load(f)"
   ]
  },
  {
   "cell_type": "code",
   "execution_count": 2,
   "metadata": {
    "collapsed": true
   },
   "outputs": [],
   "source": [
    "def make_dir(d, prefix=\"docs\"):\n",
    "    for k, v in d.items():\n",
    "        if k == \"__id\":\n",
    "            continue\n",
    "        subpath = os.path.join(prefix, k)\n",
    "        try:\n",
    "            os.makedirs(subpath)\n",
    "        except:\n",
    "            pass\n",
    "        f = os.path.join(subpath, \"README.md\")\n",
    "        if not os.path.exists(f):\n",
    "            with open(f, \"w\") as f:\n",
    "                f.write(\"\")\n",
    "        \n",
    "        if isinstance(v, dict) and \"formula\" not in k:\n",
    "            # Ignore formulas which has material specific keys.\n",
    "            make_dir(v, prefix=subpath)"
   ]
  },
  {
   "cell_type": "code",
   "execution_count": 3,
   "metadata": {
    "collapsed": false
   },
   "outputs": [],
   "source": [
    "make_dir(doc)"
   ]
  },
  {
   "cell_type": "code",
   "execution_count": null,
   "metadata": {
    "collapsed": true
   },
   "outputs": [],
   "source": []
  }
 ],
 "metadata": {
  "kernelspec": {
   "display_name": "Python 2",
   "language": "python",
   "name": "python2"
  },
  "language_info": {
   "codemirror_mode": {
    "name": "ipython",
    "version": 2
   },
   "file_extension": ".py",
   "mimetype": "text/x-python",
   "name": "python",
   "nbconvert_exporter": "python",
   "pygments_lexer": "ipython2",
   "version": "2.7.6"
  }
 },
 "nbformat": 4,
 "nbformat_minor": 0
}
